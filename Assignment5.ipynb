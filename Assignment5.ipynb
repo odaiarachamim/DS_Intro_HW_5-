{
 "cells": [
  {
   "cell_type": "code",
   "execution_count": 194,
   "id": "47711f14",
   "metadata": {},
   "outputs": [],
   "source": [
    "import requests\n",
    "from bs4 import BeautifulSoup,Comment\n",
    "import pandas as pd\n",
    "import csv"
   ]
  },
  {
   "cell_type": "code",
   "execution_count": 4,
   "id": "7ee5b602",
   "metadata": {
    "scrolled": true
   },
   "outputs": [
    {
     "name": "stdout",
     "output_type": "stream",
     "text": [
      "         city                           city_LP\n",
      "0     Antalya       mediterranean-coast/antalya\n",
      "1      Athens                            Athens\n",
      "2   Ayia-napa  the-republic-of-cyprus/Agia-napa\n",
      "3     Bangkok                           Bangkok\n",
      "4   Barcelona                         Barcelona\n",
      "..        ...                               ...\n",
      "71     Venice                            Venice\n",
      "72     Vienna                            Vienna\n",
      "73     Warsaw                            Warsaw\n",
      "74  Zakynthos                         Zakynthos\n",
      "75     Zurich                            Zurich\n",
      "\n",
      "[76 rows x 2 columns]\n"
     ]
    }
   ],
   "source": [
    "# Convert the csv file into dataframe for more convenience\n",
    "\n",
    "dataframe = pd.read_csv('destinations_LP_crawler_Ex5.csv')"
   ]
  },
  {
   "cell_type": "code",
   "execution_count": 301,
   "id": "bb5fc247",
   "metadata": {},
   "outputs": [],
   "source": [
    "# Creates an empty output dataframe\n",
    "\n",
    "column_names = ['city','country','description']\n",
    "LP_destinations = pd.DataFrame(columns = column_names)"
   ]
  },
  {
   "cell_type": "code",
   "execution_count": 302,
   "id": "a0fdc4bb",
   "metadata": {
    "scrolled": true
   },
   "outputs": [
    {
     "name": "stdout",
     "output_type": "stream",
     "text": [
      "OK\n",
      "OK\n",
      "OK\n",
      "OK\n",
      "OK\n",
      "OK\n",
      "OK\n",
      "OK\n",
      "OK\n",
      "OK\n",
      "OK\n",
      "OK\n",
      "OK\n",
      "OK\n",
      "OK\n",
      "OK\n",
      "OK\n",
      "OK\n",
      "OK\n",
      "OK\n",
      "OK\n",
      "OK\n",
      "OK\n",
      "OK\n",
      "OK\n",
      "OK\n",
      "OK\n",
      "OK\n",
      "OK\n",
      "OK\n",
      "OK\n",
      "OK\n",
      "OK\n",
      "OK\n",
      "OK\n",
      "OK\n",
      "OK\n",
      "OK\n",
      "OK\n",
      "OK\n",
      "OK\n",
      "OK\n",
      "OK\n",
      "OK\n",
      "OK\n",
      "OK\n",
      "OK\n",
      "OK\n",
      "OK\n",
      "OK\n",
      "OK\n",
      "OK\n",
      "OK\n",
      "OK\n",
      "OK\n",
      "OK\n",
      "OK\n",
      "OK\n",
      "OK\n",
      "OK\n",
      "OK\n",
      "OK\n",
      "OK\n",
      "OK\n",
      "OK\n",
      "OK\n",
      "OK\n",
      "OK\n",
      "OK\n",
      "OK\n",
      "OK\n",
      "OK\n",
      "OK\n",
      "OK\n",
      "OK\n",
      "OK\n"
     ]
    }
   ],
   "source": [
    "# API key for google geocode service\n",
    "\n",
    "YOUR_API_KEY = '12345'\n",
    "\n",
    "# Itarete\n",
    "for index, row in dataframe.iterrows():\n",
    "    city = row['city']\n",
    "    city_LP = row['city_LP']\n",
    "    \n",
    "    geocode_url = f'https://maps.googleapis.com/maps/api/geocode/json?address={city}&key={YOUR_API_KEY}'\n",
    "    response = requests.get(geocode_url).json()\n",
    "    if response['status'] != 'OK':\n",
    "        geocode_url = f'https://maps.googleapis.com/maps/api/geocode/json?address={city_LP}&key={YOUR_API_KEY}'\n",
    "        response = requests.get(geocode_url).json()\n",
    "    country = response['results'][0]['address_components'][-1]['long_name']\n",
    "    \n",
    "    if (country >= '0' and country <= '9'):\n",
    "        country = response['results'][0]['address_components'][-2]['long_name']\n",
    "    if country == 'United States':\n",
    "        country = 'usa'\n",
    "    if city == 'Krak�':\n",
    "        country = 'poland'\n",
    "    \n",
    "    # Scraping from the certain url\n",
    "    LP_url = f'https://www.lonelyplanet.com/{country}/{city_LP}'\n",
    "    \n",
    "    # \n",
    "    webpage_response = requests.get(LP_url)\n",
    "    webpage = webpage_response.content\n",
    "    soup = BeautifulSoup(webpage,\"html.parser\")\n",
    "    \n",
    "    # This div contains the description\n",
    "    div_content = soup.find('div',{'class':'readMore_content___5EuR relative overflow-hidden max-h-96 is-max wysiwyg'})\n",
    "    \n",
    "    # Iterate thorugh different paragraphs and save it into new variable called \"description\"\n",
    "    description = \"\"\n",
    "    \n",
    "    for child in div_content.children:\n",
    "        if child != '\\n':\n",
    "            if child.name == 'h2':\n",
    "                description += child.string + \": \"\n",
    "            else:\n",
    "                if child.string==None:\n",
    "                    text = \" \".join(child.find_all(text=lambda t: not isinstance(t, Comment)))\n",
    "                    description += text + \"\\n\"\n",
    "                else:\n",
    "                    description += child.string + \"\\n\"\n",
    "                \n",
    "    # Appending new information at the end of the output dataframe\n",
    "    new_row = [city, country, description]\n",
    "    LP_destinations.loc[len(LP_destinations.index)] = new_row"
   ]
  },
  {
   "cell_type": "code",
   "execution_count": 311,
   "id": "2dc62112",
   "metadata": {},
   "outputs": [],
   "source": [
    "# Export output dataframe into a csv file\n",
    "\n",
    "LP_destinations.to_csv('LP_destinations.csv', index=False)"
   ]
  }
 ],
 "metadata": {
  "kernelspec": {
   "display_name": "Python 3 (ipykernel)",
   "language": "python",
   "name": "python3"
  },
  "language_info": {
   "codemirror_mode": {
    "name": "ipython",
    "version": 3
   },
   "file_extension": ".py",
   "mimetype": "text/x-python",
   "name": "python",
   "nbconvert_exporter": "python",
   "pygments_lexer": "ipython3",
   "version": "3.9.7"
  }
 },
 "nbformat": 4,
 "nbformat_minor": 5
}
